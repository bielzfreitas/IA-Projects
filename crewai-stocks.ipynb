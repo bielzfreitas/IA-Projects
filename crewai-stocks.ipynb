{
 "cells": [
  {
   "cell_type": "markdown",
   "metadata": {},
   "source": [
    "Aplicação de IA utilizando Python\n",
    "\n",
    "Primeiro \"agente\": análise do preço do histórico da ação\n",
    "- utilizando o Yahoo Finance\n",
    "\n",
    "Segundo \"agente\": análise de notícias da empresa\n",
    "\n",
    "Terceiro \"agente\": avaliação da ação"
   ]
  },
  {
   "cell_type": "code",
   "execution_count": null,
   "metadata": {},
   "outputs": [],
   "source": [
    "#instalação de libs\n",
    "!pip install yfinance==0.2.41\n",
    "!pip install crewai==0.28.8\n",
    "!pip install 'crewai[tools]'\n",
    "!pip install langchain==0.1.20\n",
    "!pip install langchain-openai==0.1.7\n",
    "!pip install langchain-community==0.0.38\n",
    "!pip install duckduckgo-search==5.3.0"
   ]
  },
  {
   "cell_type": "code",
   "execution_count": 8,
   "metadata": {},
   "outputs": [],
   "source": [
    "#import das libs\n",
    "\n",
    "import json\n",
    "import os\n",
    "from datetime import datetime\n",
    "\n",
    "#importando o yahoo finance\n",
    "import yfinance as yf\n",
    "\n",
    "#importando a CrewIA\n",
    "from crewai import Agent, Task, Crew, Process\n",
    "\n",
    "#importando tools\n",
    "from langchain.tools import Tool\n",
    "from langchain_openai import ChatOpenAI\n",
    "from langchain_community.tools import DuckDuckGoSearchResults\n",
    "\n",
    "from IPython.display import Markdown"
   ]
  },
  {
   "cell_type": "code",
   "execution_count": 3,
   "metadata": {},
   "outputs": [],
   "source": [
    "#Criando Yahoo Finance Tool\n",
    "\n",
    "#puxando ações da Apple iniciando em 08/08/2023 e terminando em 2024\n",
    "#transformando em uma função padrão para utilizar como uma ferramente de agente de IA\n",
    "\n",
    "#função que agrupa os preços de uma ação (recebe um ticket como parametro para buscar no yahoo finance)\n",
    "def fetch_stock_price(ticket):\n",
    "    stock = yf.download(ticket, start=\"2023-08-08\", end=\"2024-08-08\")\n",
    "    return stock\n",
    "\n",
    "\n",
    "#transformando em uma ferramenta\n",
    "yahoo_finance_tool = Tool(\n",
    "    name = \"Yahoo Finance Tool\",\n",
    "    description = \"Fetches stocks prices for {ticket} from the last year about a specific strocks company from Yahoo Finance API\",\n",
    "    func = lambda ticket: fetch_stock_price(ticket)\n",
    ")"
   ]
  },
  {
   "cell_type": "code",
   "execution_count": null,
   "metadata": {},
   "outputs": [],
   "source": [
    "#importando OpenIA LLM - GPT 3.5 turbão\n",
    "\n",
    "#chave da api - COLOCAR SUA KEY CRIADA NA OPEN\n",
    "os.environ['OPENAI_API_KEY'] = \"\"\n",
    "llm = ChatOpenAI(model=\"gpt-3.5-turbo\")\n"
   ]
  },
  {
   "cell_type": "code",
   "execution_count": null,
   "metadata": {},
   "outputs": [],
   "source": [
    "#Criando o primeiro agente\n",
    "stockPriceAnalyst = Agent(\n",
    "    role = \"Senior stock price Analyst\",\n",
    "    #obj\n",
    "    goal = \"Find the {ticket} stock price ande analyses trends\",\n",
    "    backstory = \"\"\" You're a highty experience in analyzing the price of an specific stock\n",
    "                and make predictions about its future price.\"\"\",\n",
    "    #ver todo passo a passo\n",
    "    verbose = True,\n",
    "    llm = llm,\n",
    "    #máximo de interações\n",
    "    max_iter = 5,\n",
    "    memory = True,\n",
    "    tools = (yahoo_finance_tool),\n",
    "    allow_delegation = False\n",
    ")"
   ]
  },
  {
   "cell_type": "code",
   "execution_count": null,
   "metadata": {},
   "outputs": [],
   "source": [
    "#Criando uma tarefa para o primeiro agente executar\n",
    "getStockPrice = Task(\n",
    "    description = \"Analyze the strock {ticket} price history and create a trnd analyses of up, down or sideways\",\n",
    "    expected_output = \"\"\" Specify the current trend stock price - up, down or sideways.\n",
    "                        eg. stock = 'AAPL, price UP' \"\"\",\n",
    "    agent = stockPriceAnalyst\n",
    ")"
   ]
  },
  {
   "cell_type": "code",
   "execution_count": null,
   "metadata": {},
   "outputs": [],
   "source": [
    "#Importando a Tool de search\n",
    "search_tool = DuckDuckGoSearchResults(\n",
    "    backend = 'news', \n",
    "    num_results = 10\n",
    ")\n"
   ]
  },
  {
   "cell_type": "code",
   "execution_count": null,
   "metadata": {},
   "outputs": [],
   "source": [
    "#Criando segundo agente - Analise de Notícias\n",
    "newsAnalyst = Agent(\n",
    "    role = \"Stock news Analyst\",\n",
    "    goal = \"\"\" Create a short sumary of the market news related to the stock {ticket} company. \n",
    "                Specify the current trend - up, down or sideway with the news context. For each\n",
    "                request stock asset, specify a number between 0 and 100, where 0 is extreme fear\n",
    "                and 100 is extreme greed.\"\"\",\n",
    "    backstory = \"\"\" You're highly experienced in analyzing the market trends and news and have tracked assest for more then 10 years.\n",
    "                    You're also master level analyts in the tradicional markets and have deep understanding of human psychology.\n",
    "                    You understand news, theirs tittles and information, but you look at those with a health dose of skepticism. \n",
    "                    You consider also the source of the news articles. \"\"\",\n",
    "    verbose = True,\n",
    "    llm = llm,\n",
    "    max_iter = 10,\n",
    "    memory = True,\n",
    "    tools = [search_tool],\n",
    "    allow_delegation = False\n",
    ") "
   ]
  },
  {
   "cell_type": "code",
   "execution_count": null,
   "metadata": {},
   "outputs": [],
   "source": [
    "#Criando a tarefa do segundo agente\n",
    "get_news = Task(\n",
    "    description = \"\"\" Take the stock and always include BTC to it (if not request).\n",
    "                        Use the search tool to search each one individually. \n",
    "                        The current date is {datetime.now()}.\n",
    "                        Compose the results into a helpfull report \"\"\",\n",
    "    expected_output = \"\"\" A summary of the overall market and one sentence summary for each request asset. \n",
    "                            Include a fear/greed score for each asset based on the news. Use format:\n",
    "                            <STOCK ASSET>\n",
    "                            <SUMMARY BASED ON NEWS>\n",
    "                            <TREND PREDICTION>\n",
    "                            <FEAR/GREED SCORE> \"\"\",\n",
    "    agent = newsAnalyst\n",
    ")"
   ]
  },
  {
   "cell_type": "code",
   "execution_count": null,
   "metadata": {},
   "outputs": [],
   "source": [
    "# Criando o terceiro agente - Escrever/Fazer a Análise de fato\n",
    "stockAnalystWrite = Agent(\n",
    "    role = \"Senior stock Analyst Writer\",\n",
    "    goal = \"\"\" \"Analyze the trends price and news and write an insighfull compelling and informative \n",
    "                3 paragraph long newsletter based on the stock report and price trend. \"\"\",\n",
    "    backstory = \"\"\" You're widely accepted as the best stock analyst in the market. You understand complex concepts and create compelling stories\n",
    "                    and narratives that resonate with wider audiences. \n",
    "\n",
    "                    You understand macro factors and combine multiple theories - eg. cycle theory and fundamental analyses. \n",
    "                    You're able to hold multiple opinions when analyzing anything. \"\"\",\n",
    "    verbose = True,\n",
    "    llm = llm,\n",
    "    max_iter = 5,\n",
    "    memory = True,\n",
    "    allow_delegation = False\n",
    ")"
   ]
  },
  {
   "cell_type": "code",
   "execution_count": null,
   "metadata": {},
   "outputs": [],
   "source": [
    "#Criando a tarefa do terceiro agente\n",
    "writeAnalyses = Task(\n",
    "    description = \"\"\" Use the stock price trend and the stock news report to create an analyses and write the newsletter about the {ticket} company\n",
    "                        that is brief and highlights the most important points.\n",
    "                        Focus on the stock price trend, news and fear/greed score. What are the near future considerations?\n",
    "                        Include the previous analyses of stock trend and news summary. \"\"\",\n",
    "    expected_output = \"\"\" \"An eloquent 3 paragraphs newsletter formated as markdown in an easy readable manner. It should contain:\n",
    "                            - 3 bullets executive summary \n",
    "                            - Introduction \n",
    "                            - set the overall picture and spike up the interest\n",
    "                            - main part provides the meat of the analysis including the news summary and fead/greed scores\n",
    "                            - summary \n",
    "                            - key facts and concrete future trend prediction - up, down or sideways. \"\"\",\n",
    "    agent = stockAnalystWrite,\n",
    "    #pra essa tarefa, precisamos de dois contextos (primeira e segunda tarefas juntas)\n",
    "    context = [getStockPrice, get_news]\n",
    ")"
   ]
  },
  {
   "cell_type": "code",
   "execution_count": null,
   "metadata": {},
   "outputs": [],
   "source": [
    "#Criando o grupo de agentes de IA - usando método crew\n",
    "crew = Crew(\n",
    "    agents = [stockPriceAnalyst, newsAnalyst, stockAnalystWrite],\n",
    "    tasks = [getStockPrice, get_news, writeAnalyses],\n",
    "    verbose = 2,\n",
    "    \n",
    "    #Process - se vai ser sequencial (uma atras da outra) ou hierarquico (organizaar as tarefas de forma hierarquica - estrutura de comando)\n",
    "    process = Process.hierarchical,\n",
    "    \n",
    "    full_output = True,\n",
    "    share_crew = False,\n",
    "    manager_llm = llm,\n",
    "    max_iter = 15\n",
    ")"
   ]
  },
  {
   "cell_type": "code",
   "execution_count": null,
   "metadata": {},
   "outputs": [],
   "source": [
    "#Executando o Crew\n",
    "\n",
    "#results= crew.kickoff(inputs={'ticket': 'AAPL})"
   ]
  },
  {
   "cell_type": "code",
   "execution_count": null,
   "metadata": {},
   "outputs": [],
   "source": [
    "#Printando as keys\n",
    "#list(results.keys())\n",
    "\n",
    "#Printando as finals outputs\n",
    "#results['final_output']\n",
    "\n",
    "#Printando as tarefas outputs\n",
    "#len(results['tasks_outputs'])\n",
    "\n",
    "#Printando um Markdown\n",
    "#Markdown(results['final_output'])"
   ]
  },
  {
   "cell_type": "code",
   "execution_count": null,
   "metadata": {},
   "outputs": [],
   "source": [
    "#Printando Resultados\n",
    "\n",
    "with st.sidebar:\n",
    "    st.header('Enter the Stock to Research')\n",
    "\n",
    "    with st.form(key='research_form'):\n",
    "        topic = st.text_input(\"Select the ticket\")\n",
    "        submit_button = st.form_submit_button(label = \"Run Research\")\n",
    "if submit_button:\n",
    "    if not topic:\n",
    "        st.error(\"Please fill the ticket field\")\n",
    "    else:\n",
    "        results= crew.kickoff(inputs={'ticket': topic})\n",
    "\n",
    "        st.subheader(\"Results of research:\")\n",
    "        st.write(results['final_output'])"
   ]
  }
 ],
 "metadata": {
  "kernelspec": {
   "display_name": "Python 3",
   "language": "python",
   "name": "python3"
  },
  "language_info": {
   "codemirror_mode": {
    "name": "ipython",
    "version": 3
   },
   "file_extension": ".py",
   "mimetype": "text/x-python",
   "name": "python",
   "nbconvert_exporter": "python",
   "pygments_lexer": "ipython3",
   "version": "3.11.9"
  }
 },
 "nbformat": 4,
 "nbformat_minor": 2
}
